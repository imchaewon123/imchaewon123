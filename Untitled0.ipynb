{
  "nbformat": 4,
  "nbformat_minor": 0,
  "metadata": {
    "colab": {
      "name": "Untitled0.ipynb",
      "provenance": [],
      "authorship_tag": "ABX9TyMU77xmLR6hatsJnd8eFLuS",
      "include_colab_link": true
    },
    "kernelspec": {
      "name": "python3",
      "display_name": "Python 3"
    },
    "language_info": {
      "name": "python"
    }
  },
  "cells": [
    {
      "cell_type": "markdown",
      "metadata": {
        "id": "view-in-github",
        "colab_type": "text"
      },
      "source": [
        "<a href=\"https://colab.research.google.com/github/imchaewon123/imchaewon123/blob/main/Untitled0.ipynb\" target=\"_parent\"><img src=\"https://colab.research.google.com/assets/colab-badge.svg\" alt=\"Open In Colab\"/></a>"
      ]
    },
    {
      "cell_type": "code",
      "metadata": {
        "colab": {
          "base_uri": "https://localhost:8080/"
        },
        "id": "wyCKPYJFkNY_",
        "outputId": "9a2ae448-50e7-41b3-b343-c18bcc6fa13e"
      },
      "source": [
        "print(\"환영합니다.\")\n",
        "print(\"파이썬의 세계에 오신것을 환영합니다.\")\n",
        "print(\"파이썬은 강력합니다.\")\n"
      ],
      "execution_count": 1,
      "outputs": [
        {
          "output_type": "stream",
          "name": "stdout",
          "text": [
            "환영합니다.\n",
            "파이썬의 세계에 오신것을 환영합니다.\n",
            "파이썬은 강력합니다.\n"
          ]
        }
      ]
    }
  ]
}